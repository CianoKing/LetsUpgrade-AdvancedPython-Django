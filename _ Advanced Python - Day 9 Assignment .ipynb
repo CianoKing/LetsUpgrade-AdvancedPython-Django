{
 "cells": [
  {
   "cell_type": "code",
   "execution_count": 4,
   "metadata": {},
   "outputs": [],
   "source": [
    "import random\n",
    "import array"
   ]
  },
  {
   "cell_type": "code",
   "execution_count": 5,
   "metadata": {},
   "outputs": [],
   "source": [
    "max_len = 12\n",
    "digits = ['1','2','3','4','5','6','7','8','9']\n",
    "lowercase = ['a','b','c','d','e','f','g','h','i','j','k','l','m','n','o','p','q','r','s','t','u','v','w','x','y','z']\n",
    "uppercase = ['A','B','C','D','E','F','G','H','I','J','K','L','M','N','O','P','Q','R','S','T','U','V','W','X','Y','Z']\n",
    "spec_charac = ['!','@','#','$','%','&','*','_','-']"
   ]
  },
  {
   "cell_type": "code",
   "execution_count": 9,
   "metadata": {},
   "outputs": [
    {
     "name": "stdout",
     "output_type": "stream",
     "text": [
      "6fJ-R@zl_nkC\n"
     ]
    }
   ],
   "source": [
    "all_characters = digits + lowercase + uppercase + spec_charac\n",
    "\n",
    "rand_digit = random.choice(digits)\n",
    "rand_lower = random.choice(lowercase)\n",
    "rand_upper = random.choice(uppercase)\n",
    "rand_special = random.choice(spec_charac)\n",
    "\n",
    "random_selection = rand_digit + rand_lower + rand_upper + rand_special\n",
    "Password = \"\"\n",
    "for each in range(max_len-4):\n",
    "    random_selection =random_selection +  random.choice(all_characters)\n",
    "Password = Password + random_selection\n",
    "print(Password)\n"
   ]
  },
  {
   "cell_type": "code",
   "execution_count": null,
   "metadata": {},
   "outputs": [],
   "source": []
  }
 ],
 "metadata": {
  "kernelspec": {
   "display_name": "Python 3",
   "language": "python",
   "name": "python3"
  },
  "language_info": {
   "codemirror_mode": {
    "name": "ipython",
    "version": 3
   },
   "file_extension": ".py",
   "mimetype": "text/x-python",
   "name": "python",
   "nbconvert_exporter": "python",
   "pygments_lexer": "ipython3",
   "version": "3.8.3"
  }
 },
 "nbformat": 4,
 "nbformat_minor": 4
}
