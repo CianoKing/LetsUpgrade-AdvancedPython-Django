{
 "cells": [
  {
   "cell_type": "markdown",
   "metadata": {},
   "source": [
    "# QUESTION 1"
   ]
  },
  {
   "cell_type": "code",
   "execution_count": 10,
   "metadata": {},
   "outputs": [
    {
     "name": "stdout",
     "output_type": "stream",
     "text": [
      "Enter a number to find how many times it occurs - 3\n"
     ]
    },
    {
     "data": {
      "text/plain": [
       "5"
      ]
     },
     "execution_count": 10,
     "metadata": {},
     "output_type": "execute_result"
    }
   ],
   "source": [
    "list1 = [1,3,5,7,3,8,3,4,6,3,2,4,7,9,4,3,2,2]\n",
    "num1 = int(input(\"Enter a number to find how many times it occurs - \")) \n",
    "list1.count(num1)"
   ]
  },
  {
   "cell_type": "code",
   "execution_count": 49,
   "metadata": {},
   "outputs": [
    {
     "name": "stdout",
     "output_type": "stream",
     "text": [
      "1 repeats 1 times\n",
      "3 repeats 5 times\n",
      "5 repeats 1 times\n",
      "7 repeats 2 times\n",
      "3 repeats 5 times\n",
      "8 repeats 1 times\n",
      "3 repeats 5 times\n",
      "4 repeats 3 times\n",
      "6 repeats 1 times\n",
      "3 repeats 5 times\n",
      "2 repeats 3 times\n",
      "4 repeats 3 times\n",
      "7 repeats 2 times\n",
      "9 repeats 1 times\n",
      "4 repeats 3 times\n",
      "3 repeats 5 times\n",
      "2 repeats 3 times\n",
      "2 repeats 3 times\n"
     ]
    }
   ],
   "source": [
    "#OR\n",
    "\n",
    "list1 = [1,3,5,7,3,8,3,4,6,3,2,4,7,9,4,3,2,2]\n",
    "\n",
    "for x in list1:\n",
    "            \n",
    "    list1.count(x)\n",
    "    print(x, \"repeats\" ,list1.count(x), \"times\")\n",
    "    "
   ]
  },
  {
   "cell_type": "markdown",
   "metadata": {},
   "source": [
    "# I"
   ]
  },
  {
   "cell_type": "code",
   "execution_count": 1,
   "metadata": {},
   "outputs": [],
   "source": [
    "list3 = [\"192.168.10.9\",\"192.168.10.4\",\"192.168.10.11\",\"192.168.10.35\",]"
   ]
  },
  {
   "cell_type": "code",
   "execution_count": 6,
   "metadata": {},
   "outputs": [
    {
     "name": "stdout",
     "output_type": "stream",
     "text": [
      "['192.168.10.11', '192.168.10.35', '192.168.10.4', '192.168.10.9']\n"
     ]
    }
   ],
   "source": [
    "list3.sort()\n",
    "print(list3)"
   ]
  },
  {
   "cell_type": "code",
   "execution_count": 7,
   "metadata": {},
   "outputs": [],
   "source": [
    "\n",
    "def fun(x):\n",
    "    b = int(x.split(\".\")[3])\n",
    "    return b\n"
   ]
  },
  {
   "cell_type": "code",
   "execution_count": 8,
   "metadata": {},
   "outputs": [
    {
     "name": "stdout",
     "output_type": "stream",
     "text": [
      "['192.168.10.4', '192.168.10.9', '192.168.10.11', '192.168.10.35']\n"
     ]
    }
   ],
   "source": [
    "list3.sort(key = fun)\n",
    "print(list3)"
   ]
  },
  {
   "cell_type": "markdown",
   "metadata": {},
   "source": [
    "# II"
   ]
  },
  {
   "cell_type": "code",
   "execution_count": 8,
   "metadata": {},
   "outputs": [
    {
     "name": "stdout",
     "output_type": "stream",
     "text": [
      "[1, 2, 3, 0, 2, 3, 0, 1, 24, 0, 1, 3, 1, 0, 1, 21, 0, 1, 2, 0, 45]\n"
     ]
    }
   ],
   "source": [
    "list1 = [1,2,3,0,2,3,0,1,24,0,1,3,1,0,1,21,0,1,2,0,45]\n",
    "\n",
    "print(list1)"
   ]
  },
  {
   "cell_type": "code",
   "execution_count": 17,
   "metadata": {},
   "outputs": [
    {
     "name": "stdout",
     "output_type": "stream",
     "text": [
      "[1, 1, 1, 1, 1, 1, 2, 2, 2, 3, 3, 3, 21, 24, 45, 0, 0, 0, 0, 0, 0]\n"
     ]
    }
   ],
   "source": [
    "list1.sort()\n",
    "b = list1.count(0)\n",
    "print(list1[b:] + list1[:b])\n"
   ]
  },
  {
   "cell_type": "markdown",
   "metadata": {},
   "source": [
    "# III"
   ]
  },
  {
   "cell_type": "code",
   "execution_count": 92,
   "metadata": {},
   "outputs": [
    {
     "name": "stdout",
     "output_type": "stream",
     "text": [
      "[(10, 4), (90, 3), (9, 1), (10, 4), (9, 5)]\n"
     ]
    }
   ],
   "source": [
    "list1 =[(10,4),(90,3),(9,1),(10,4),(9,5)]\n",
    "print(list1)"
   ]
  },
  {
   "cell_type": "code",
   "execution_count": 35,
   "metadata": {},
   "outputs": [
    {
     "name": "stdout",
     "output_type": "stream",
     "text": [
      "[(9, 1), (9, 5), (10, 4), (10, 4), (90, 3)]\n"
     ]
    }
   ],
   "source": [
    "def fun(x):\n",
    "    return x[0]\n",
    "    b= x[0]+x[1]\n",
    "    return b\n",
    "\n",
    "    \n",
    "list1.sort(key = fun)\n",
    "print(list1)"
   ]
  }
 ],
 "metadata": {
  "kernelspec": {
   "display_name": "Python 3",
   "language": "python",
   "name": "python3"
  },
  "language_info": {
   "codemirror_mode": {
    "name": "ipython",
    "version": 3
   },
   "file_extension": ".py",
   "mimetype": "text/x-python",
   "name": "python",
   "nbconvert_exporter": "python",
   "pygments_lexer": "ipython3",
   "version": "3.8.3"
  }
 },
 "nbformat": 4,
 "nbformat_minor": 4
}
